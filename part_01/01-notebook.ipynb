{
 "cells": [
  {
   "cell_type": "code",
   "execution_count": 2,
   "id": "762e89be",
   "metadata": {},
   "outputs": [],
   "source": [
    "import os\n",
    "import sys\n",
    "import numpy as np\n",
    "import pandas as pd\n",
    "import matplotlib.pyplot as plt\n",
    "import seaborn as sn\n",
    "\n",
    "%matplotlib inline\n",
    "sep = os.sep\n",
    "\n",
    "# Добавить в путь до родительской папки\n",
    "#sys.path.append(os.path.join(sys.path[0], f'..{sep}'))\n",
    "#sys.path.append(os.path.join(os.getcwd(), f'..{sep}'))"
   ]
  },
  {
   "cell_type": "code",
   "execution_count": 4,
   "id": "1fe3b9a0",
   "metadata": {},
   "outputs": [],
   "source": [
    "# Для регрессии\n",
    "from sklearn.datasets import make_regression\n",
    "\n",
    "X, y = make_regression(n_samples=1000, n_features=14, n_informative=10, noise=15, random_state=42)\n",
    "X = pd.DataFrame(X)\n",
    "y = pd.Series(y)\n",
    "X.columns = [f'col_{col}' for col in X.columns]\n",
    "#y\n",
    "#X"
   ]
  },
  {
   "cell_type": "code",
   "execution_count": 15,
   "id": "0d878edd",
   "metadata": {},
   "outputs": [],
   "source": [
    "# Для регрессии\n",
    "from sklearn.datasets import load_diabetes\n",
    "\n",
    "data = load_diabetes(as_frame=True)\n",
    "X, y = data['data'], data['target']\n",
    "#y\n",
    "#X"
   ]
  },
  {
   "cell_type": "code",
   "execution_count": 4,
   "id": "44bb407e",
   "metadata": {},
   "outputs": [],
   "source": [
    "# Для классификации\n",
    "from sklearn.datasets import make_classification\n",
    "\n",
    "X, y = make_classification(n_samples=1000, n_features=14, n_informative=10, random_state=42)\n",
    "X = pd.DataFrame(X)\n",
    "y = pd.Series(y)\n",
    "X.columns = [f'col_{col}' for col in X.columns]\n",
    "#y\n",
    "#X"
   ]
  },
  {
   "cell_type": "code",
   "execution_count": 5,
   "id": "f4a4052b",
   "metadata": {},
   "outputs": [
    {
     "data": {
      "text/plain": [
       "0       0\n",
       "1       0\n",
       "2       0\n",
       "3       0\n",
       "4       0\n",
       "       ..\n",
       "1367    1\n",
       "1368    1\n",
       "1369    1\n",
       "1370    1\n",
       "1371    1\n",
       "Name: target, Length: 1372, dtype: int64"
      ]
     },
     "execution_count": 5,
     "metadata": {},
     "output_type": "execute_result"
    }
   ],
   "source": [
    "# Для классификации\n",
    "df = pd.read_csv('banknote+authentication.zip', header=None)\n",
    "df.columns = ['variance', 'skewness', 'curtosis', 'entropy', 'target']\n",
    "X, y = df.iloc[:,:4], df['target']\n",
    "#y\n",
    "#X"
   ]
  },
  {
   "cell_type": "code",
   "execution_count": 9,
   "id": "31928655",
   "metadata": {},
   "outputs": [],
   "source": [
    "# Для кластеризации\n",
    "from sklearn.datasets import make_blobs\n",
    "\n",
    "X, _ = make_blobs(n_samples=100, centers=5, n_features=5, cluster_std=2.5, random_state=42)\n",
    "X = pd.DataFrame(X)\n",
    "X.columns = [f'col_{col}' for col in X.columns]\n",
    "#X"
   ]
  },
  {
   "cell_type": "code",
   "execution_count": null,
   "id": "a1acceea",
   "metadata": {},
   "outputs": [],
   "source": []
  }
 ],
 "metadata": {
  "kernelspec": {
   "display_name": "Python 3 (ipykernel)",
   "language": "python",
   "name": "python3"
  },
  "language_info": {
   "codemirror_mode": {
    "name": "ipython",
    "version": 3
   },
   "file_extension": ".py",
   "mimetype": "text/x-python",
   "name": "python",
   "nbconvert_exporter": "python",
   "pygments_lexer": "ipython3",
   "version": "3.11.5"
  }
 },
 "nbformat": 4,
 "nbformat_minor": 5
}
